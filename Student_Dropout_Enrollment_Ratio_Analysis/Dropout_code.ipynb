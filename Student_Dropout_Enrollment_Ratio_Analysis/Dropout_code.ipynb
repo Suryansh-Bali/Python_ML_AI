{
 "cells": [
  {
   "cell_type": "markdown",
   "metadata": {},
   "source": [
    "# Student Dropout and Enrollment Ratio Analysis\n",
    "\n",
    "During the analysis of this Dataset we are going to study the trend of Students from various states all over India who dropped out from school- Primary, Upper Primary, Secondary and Higher Secondary Years of their education along with the gross enrollment ratios for the same within the timelime of 2013-2016.  \n",
    "\n",
    "\n",
    "You can also mention about [the course](http://zerotopandas.com), and what you've learned from it.\n",
    "\n",
    "As a first step, let's upload our Jupyter notebook to [Jovian.ml](https://jovian.ml)."
   ]
  },
  {
   "cell_type": "code",
   "execution_count": 1,
   "metadata": {},
   "outputs": [],
   "source": [
    "project_name = \"Student Dropout and Enrollment Ratio Analysis\" "
   ]
  },
  {
   "cell_type": "code",
   "execution_count": 2,
   "metadata": {},
   "outputs": [],
   "source": [
    "!pip install jovian --upgrade -q"
   ]
  },
  {
   "cell_type": "code",
   "execution_count": 3,
   "metadata": {},
   "outputs": [],
   "source": [
    "import jovian"
   ]
  },
  {
   "cell_type": "code",
   "execution_count": 4,
   "metadata": {},
   "outputs": [
    {
     "data": {
      "application/javascript": [
       "window.require && require([\"base/js/namespace\"],function(Jupyter){Jupyter.notebook.save_checkpoint()})"
      ],
      "text/plain": [
       "<IPython.core.display.Javascript object>"
      ]
     },
     "metadata": {},
     "output_type": "display_data"
    },
    {
     "name": "stdout",
     "output_type": "stream",
     "text": [
      "[jovian] Attempting to save notebook..\u001b[0m\n",
      "[jovian] Please enter your API key ( from https://jovian.ml/ ):\u001b[0m\n",
      "API KEY: ········\n",
      "[jovian] Updating notebook \"sanya-dassani/student-dropout-and-enrollment-ratio-analysis\" on https://jovian.ml/\u001b[0m\n",
      "[jovian] Uploading notebook..\u001b[0m\n",
      "[jovian] Capturing environment..\u001b[0m\n",
      "[jovian] Committed successfully! https://jovian.ml/sanya-dassani/student-dropout-and-enrollment-ratio-analysis\u001b[0m\n"
     ]
    },
    {
     "data": {
      "text/plain": [
       "'https://jovian.ml/sanya-dassani/student-dropout-and-enrollment-ratio-analysis'"
      ]
     },
     "execution_count": 4,
     "metadata": {},
     "output_type": "execute_result"
    }
   ],
   "source": [
    "jovian.commit(project=project_name)"
   ]
  },
  {
   "cell_type": "markdown",
   "metadata": {},
   "source": [
    "## Data Preparation and Cleaning"
   ]
  },
  {
   "cell_type": "code",
   "execution_count": 5,
   "metadata": {},
   "outputs": [],
   "source": [
    "import pandas as pd"
   ]
  },
  {
   "cell_type": "code",
   "execution_count": 6,
   "metadata": {},
   "outputs": [
    {
     "name": "stdout",
     "output_type": "stream",
     "text": [
      "Requirement already satisfied: xlrd in /srv/conda/envs/notebook/lib/python3.8/site-packages (1.2.0)\n",
      "Note: you may need to restart the kernel to use updated packages.\n"
     ]
    }
   ],
   "source": [
    "pip install xlrd"
   ]
  },
  {
   "cell_type": "code",
   "execution_count": 7,
   "metadata": {},
   "outputs": [],
   "source": [
    "from urllib.request import urlretrieve"
   ]
  },
  {
   "cell_type": "code",
   "execution_count": 9,
   "metadata": {},
   "outputs": [],
   "source": [
    "drop_df = pd.read_excel(r'dropout-ratio.xlsx')"
   ]
  },
  {
   "cell_type": "code",
   "execution_count": 10,
   "metadata": {},
   "outputs": [],
   "source": [
    "all_df = pd.read_excel('dropout-ratio.xlsx', sheet_name=None)"
   ]
  },
  {
   "cell_type": "code",
   "execution_count": 11,
   "metadata": {},
   "outputs": [
    {
     "name": "stdout",
     "output_type": "stream",
     "text": [
      "{'dropout-ratio-2012-2015':            State_UT     year Primary_Boys Primary_Girls Primary_Total  \\\n",
      "0     A & N Islands  2012-13         0.83          0.51          0.68   \n",
      "1     A & N Islands  2013-14         1.35          1.06          1.21   \n",
      "2     A & N Islands  2014-15         0.47          0.55          0.51   \n",
      "3    Andhra Pradesh  2012-13          3.3          3.05          3.18   \n",
      "4    Andhra Pradesh  2013-14         4.31          4.39          4.35   \n",
      "..              ...      ...          ...           ...           ...   \n",
      "105     West Bengal  2013-14         3.44          2.37          2.91   \n",
      "106     West Bengal  2014-15         2.13          0.79          1.47   \n",
      "107       All India  2012-13         4.68          4.66          4.67   \n",
      "108       All India  2013-14         4.53          4.14          4.34   \n",
      "109       All India  2014-15         4.36          3.88          4.13   \n",
      "\n",
      "    Upper Primary_Boys Upper Primary_Girls Upper Primary_Total  \\\n",
      "0       Uppe_r_Primary                1.09                1.23   \n",
      "1                   NR                1.54                0.51   \n",
      "2                 1.44                1.95                1.69   \n",
      "3                 3.21                3.51                3.36   \n",
      "4                 3.46                4.12                3.78   \n",
      "..                 ...                 ...                 ...   \n",
      "105               5.63                 3.1                4.31   \n",
      "106               5.84                2.88                 4.3   \n",
      "107                2.3                4.01                3.13   \n",
      "108               3.09                4.49                3.77   \n",
      "109               3.49                 4.6                4.03   \n",
      "\n",
      "    Secondary _Boys Secondary _Girls Secondary _Total HrSecondary_Boys  \\\n",
      "0              5.57             5.55             5.56            17.66   \n",
      "1              8.36             5.98              7.2            18.94   \n",
      "2             11.47             8.16             9.87            21.05   \n",
      "3             12.21            13.25            12.72             2.66   \n",
      "4             11.95            13.37            12.65            12.65   \n",
      "..              ...              ...              ...              ...   \n",
      "105           16.73            19.77            18.34             8.03   \n",
      "106           16.33            19.06             17.8             8.18   \n",
      "107           14.54            14.54            14.54               NR   \n",
      "108           17.93            17.79            17.86             1.48   \n",
      "109           17.21            16.88            17.06             0.25   \n",
      "\n",
      "    HrSecondary_Girls HrSecondary_Total  \n",
      "0               10.15             14.14  \n",
      "1                12.2             15.87  \n",
      "2               12.21             16.93  \n",
      "3                  NR              0.35  \n",
      "4               10.85             11.79  \n",
      "..                ...               ...  \n",
      "105              7.76               7.9  \n",
      "106              8.04              8.11  \n",
      "107                NR                NR  \n",
      "108              1.61              1.54  \n",
      "109                NR                NR  \n",
      "\n",
      "[110 rows x 14 columns], 'gross-enrollment-ratio-2013-201':                       State_UT     Year  Primary_Boys  Primary_Girls  \\\n",
      "0    Andaman & Nicobar Islands  2013-14         95.88          91.97   \n",
      "1               Andhra Pradesh  2013-14         96.62          96.87   \n",
      "2            Arunachal Pradesh  2013-14        129.12         127.77   \n",
      "3                        Assam  2013-14        111.77         115.16   \n",
      "4                        Bihar  2013-14         95.03         101.15   \n",
      "..                         ...      ...           ...            ...   \n",
      "105                    Tripura  2014-15        109.50         110.49   \n",
      "106              Uttar Pradesh  2014-15         91.54          98.93   \n",
      "107                Uttaranchal  2014-15        100.11         101.02   \n",
      "108                West Bengal  2014-15        101.78         102.91   \n",
      "109                  All India  2014-15         98.85         101.43   \n",
      "\n",
      "     Primary_Total  Upper_Primary_Boys  Upper_Primary_Girls  \\\n",
      "0            93.93               94.70                88.98   \n",
      "1            96.74               82.81                84.38   \n",
      "2           128.46              112.64               115.27   \n",
      "3           113.43               87.85                98.69   \n",
      "4            97.96               80.60                94.92   \n",
      "..             ...                 ...                  ...   \n",
      "105         109.98              118.80               122.38   \n",
      "106          95.00               68.14                82.28   \n",
      "107         100.54               84.20                87.03   \n",
      "108         102.33               96.16               110.67   \n",
      "109         100.08               87.71                95.29   \n",
      "\n",
      "     Upper_Primary_Total  Secondary_Boys  Secondary_Girls  Secondary_Total  \\\n",
      "0                  91.83          102.89            97.36           100.16   \n",
      "1                  83.57           73.76            76.77            75.20   \n",
      "2                 113.94           88.37            84.89            86.65   \n",
      "3                  93.13           65.60            77.20            71.21   \n",
      "4                  87.24           57.66            62.96            60.08   \n",
      "..                   ...             ...              ...              ...   \n",
      "105               120.54          119.81           121.36           120.57   \n",
      "106                74.54           67.85            67.73            67.79   \n",
      "107                85.53           90.99            89.65            90.35   \n",
      "108               103.17           70.67            86.05            78.17   \n",
      "109                91.24           78.13            78.94            78.51   \n",
      "\n",
      "    Higher_Secondary_Boys Higher_Secondary_Girls Higher_Secondary_Total  \n",
      "0                   105.4                  96.61                 101.28  \n",
      "1                   59.83                  60.83                   60.3  \n",
      "2                   65.16                  65.38                  65.27  \n",
      "3                   31.78                  34.27                  32.94  \n",
      "4                   23.33                  24.17                   23.7  \n",
      "..                    ...                    ...                    ...  \n",
      "105                 46.48                  40.05                   43.4  \n",
      "106                 65.36                  62.01                  63.75  \n",
      "107                 79.82                  80.95                  80.36  \n",
      "108                 48.27                  51.82                  49.95  \n",
      "109                 54.57                  53.81                  54.21  \n",
      "\n",
      "[110 rows x 14 columns]}\n"
     ]
    }
   ],
   "source": [
    "print(all_df)"
   ]
  },
  {
   "cell_type": "code",
   "execution_count": 12,
   "metadata": {},
   "outputs": [],
   "source": [
    "df = pd.concat(pd.read_excel('dropout-ratio.xlsx', sheet_name=None), ignore_index=True)"
   ]
  },
  {
   "cell_type": "code",
   "execution_count": 13,
   "metadata": {},
   "outputs": [
    {
     "data": {
      "text/html": [
       "<div>\n",
       "<style scoped>\n",
       "    .dataframe tbody tr th:only-of-type {\n",
       "        vertical-align: middle;\n",
       "    }\n",
       "\n",
       "    .dataframe tbody tr th {\n",
       "        vertical-align: top;\n",
       "    }\n",
       "\n",
       "    .dataframe thead th {\n",
       "        text-align: right;\n",
       "    }\n",
       "</style>\n",
       "<table border=\"1\" class=\"dataframe\">\n",
       "  <thead>\n",
       "    <tr style=\"text-align: right;\">\n",
       "      <th></th>\n",
       "      <th>Upper_Primary_Boys</th>\n",
       "      <th>Upper_Primary_Girls</th>\n",
       "      <th>Upper_Primary_Total</th>\n",
       "      <th>Secondary_Boys</th>\n",
       "      <th>Secondary_Girls</th>\n",
       "      <th>Secondary_Total</th>\n",
       "    </tr>\n",
       "  </thead>\n",
       "  <tbody>\n",
       "    <tr>\n",
       "      <th>count</th>\n",
       "      <td>110.000000</td>\n",
       "      <td>110.000000</td>\n",
       "      <td>110.000000</td>\n",
       "      <td>110.000000</td>\n",
       "      <td>110.000000</td>\n",
       "      <td>110.000000</td>\n",
       "    </tr>\n",
       "    <tr>\n",
       "      <th>mean</th>\n",
       "      <td>96.880091</td>\n",
       "      <td>101.444273</td>\n",
       "      <td>99.096091</td>\n",
       "      <td>86.894818</td>\n",
       "      <td>88.476273</td>\n",
       "      <td>87.653091</td>\n",
       "    </tr>\n",
       "    <tr>\n",
       "      <th>std</th>\n",
       "      <td>14.972434</td>\n",
       "      <td>16.676238</td>\n",
       "      <td>15.694185</td>\n",
       "      <td>15.340409</td>\n",
       "      <td>15.597699</td>\n",
       "      <td>15.064506</td>\n",
       "    </tr>\n",
       "    <tr>\n",
       "      <th>min</th>\n",
       "      <td>67.320000</td>\n",
       "      <td>71.850000</td>\n",
       "      <td>70.200000</td>\n",
       "      <td>57.660000</td>\n",
       "      <td>62.960000</td>\n",
       "      <td>60.080000</td>\n",
       "    </tr>\n",
       "    <tr>\n",
       "      <th>25%</th>\n",
       "      <td>88.637500</td>\n",
       "      <td>90.760000</td>\n",
       "      <td>90.350000</td>\n",
       "      <td>74.925000</td>\n",
       "      <td>78.265000</td>\n",
       "      <td>75.647500</td>\n",
       "    </tr>\n",
       "    <tr>\n",
       "      <th>50%</th>\n",
       "      <td>94.555000</td>\n",
       "      <td>98.720000</td>\n",
       "      <td>95.945000</td>\n",
       "      <td>85.685000</td>\n",
       "      <td>85.100000</td>\n",
       "      <td>85.655000</td>\n",
       "    </tr>\n",
       "    <tr>\n",
       "      <th>75%</th>\n",
       "      <td>100.702500</td>\n",
       "      <td>106.587500</td>\n",
       "      <td>102.717500</td>\n",
       "      <td>95.095000</td>\n",
       "      <td>98.830000</td>\n",
       "      <td>97.407500</td>\n",
       "    </tr>\n",
       "    <tr>\n",
       "      <th>max</th>\n",
       "      <td>143.720000</td>\n",
       "      <td>157.850000</td>\n",
       "      <td>150.610000</td>\n",
       "      <td>122.770000</td>\n",
       "      <td>135.390000</td>\n",
       "      <td>127.610000</td>\n",
       "    </tr>\n",
       "  </tbody>\n",
       "</table>\n",
       "</div>"
      ],
      "text/plain": [
       "       Upper_Primary_Boys  Upper_Primary_Girls  Upper_Primary_Total  \\\n",
       "count          110.000000           110.000000           110.000000   \n",
       "mean            96.880091           101.444273            99.096091   \n",
       "std             14.972434            16.676238            15.694185   \n",
       "min             67.320000            71.850000            70.200000   \n",
       "25%             88.637500            90.760000            90.350000   \n",
       "50%             94.555000            98.720000            95.945000   \n",
       "75%            100.702500           106.587500           102.717500   \n",
       "max            143.720000           157.850000           150.610000   \n",
       "\n",
       "       Secondary_Boys  Secondary_Girls  Secondary_Total  \n",
       "count      110.000000       110.000000       110.000000  \n",
       "mean        86.894818        88.476273        87.653091  \n",
       "std         15.340409        15.597699        15.064506  \n",
       "min         57.660000        62.960000        60.080000  \n",
       "25%         74.925000        78.265000        75.647500  \n",
       "50%         85.685000        85.100000        85.655000  \n",
       "75%         95.095000        98.830000        97.407500  \n",
       "max        122.770000       135.390000       127.610000  "
      ]
     },
     "execution_count": 13,
     "metadata": {},
     "output_type": "execute_result"
    }
   ],
   "source": [
    "df.describe()"
   ]
  },
  {
   "cell_type": "code",
   "execution_count": 14,
   "metadata": {},
   "outputs": [
    {
     "data": {
      "text/plain": [
       "(220, 24)"
      ]
     },
     "execution_count": 14,
     "metadata": {},
     "output_type": "execute_result"
    }
   ],
   "source": [
    "df.shape"
   ]
  },
  {
   "cell_type": "code",
   "execution_count": 15,
   "metadata": {},
   "outputs": [],
   "source": [
    "import jovian"
   ]
  },
  {
   "cell_type": "code",
   "execution_count": 16,
   "metadata": {},
   "outputs": [
    {
     "data": {
      "application/javascript": [
       "window.require && require([\"base/js/namespace\"],function(Jupyter){Jupyter.notebook.save_checkpoint()})"
      ],
      "text/plain": [
       "<IPython.core.display.Javascript object>"
      ]
     },
     "metadata": {},
     "output_type": "display_data"
    },
    {
     "name": "stdout",
     "output_type": "stream",
     "text": [
      "[jovian] Attempting to save notebook..\u001b[0m\n",
      "[jovian] Updating notebook \"sanya-dassani/student-dropout-and-enrollment-ratio-analysis\" on https://jovian.ml/\u001b[0m\n",
      "[jovian] Uploading notebook..\u001b[0m\n",
      "[jovian] Capturing environment..\u001b[0m\n",
      "[jovian] Committed successfully! https://jovian.ml/sanya-dassani/student-dropout-and-enrollment-ratio-analysis\u001b[0m\n"
     ]
    },
    {
     "data": {
      "text/plain": [
       "'https://jovian.ml/sanya-dassani/student-dropout-and-enrollment-ratio-analysis'"
      ]
     },
     "execution_count": 16,
     "metadata": {},
     "output_type": "execute_result"
    }
   ],
   "source": [
    "jovian.commit()"
   ]
  },
  {
   "cell_type": "markdown",
   "metadata": {},
   "source": [
    "## Exploratory Analysis and Visualization\n",
    "\n",
    "TODO"
   ]
  },
  {
   "cell_type": "code",
   "execution_count": 17,
   "metadata": {},
   "outputs": [],
   "source": [
    "df = df.replace('NR', 0)"
   ]
  },
  {
   "cell_type": "code",
   "execution_count": 19,
   "metadata": {},
   "outputs": [],
   "source": [
    "df = df.fillna(0)"
   ]
  },
  {
   "cell_type": "code",
   "execution_count": 20,
   "metadata": {},
   "outputs": [
    {
     "name": "stdout",
     "output_type": "stream",
     "text": [
      "           State_UT     year  Primary_Boys  Primary_Girls  Primary_Total  \\\n",
      "0     A & N Islands  2012-13          0.83           0.51           0.68   \n",
      "1     A & N Islands  2013-14          1.35           1.06           1.21   \n",
      "2     A & N Islands  2014-15          0.47           0.55           0.51   \n",
      "3    Andhra Pradesh  2012-13          3.30           3.05           3.18   \n",
      "4    Andhra Pradesh  2013-14          4.31           4.39           4.35   \n",
      "..              ...      ...           ...            ...            ...   \n",
      "215         Tripura        0        109.50         110.49         109.98   \n",
      "216   Uttar Pradesh        0         91.54          98.93          95.00   \n",
      "217     Uttaranchal        0        100.11         101.02         100.54   \n",
      "218     West Bengal        0        101.78         102.91         102.33   \n",
      "219       All India        0         98.85         101.43         100.08   \n",
      "\n",
      "    Upper Primary_Boys  Upper Primary_Girls  Upper Primary_Total  \\\n",
      "0       Uppe_r_Primary                 1.09                 1.23   \n",
      "1                    0                 1.54                 0.51   \n",
      "2                 1.44                 1.95                 1.69   \n",
      "3                 3.21                 3.51                 3.36   \n",
      "4                 3.46                 4.12                 3.78   \n",
      "..                 ...                  ...                  ...   \n",
      "215                  0                 0.00                 0.00   \n",
      "216                  0                 0.00                 0.00   \n",
      "217                  0                 0.00                 0.00   \n",
      "218                  0                 0.00                 0.00   \n",
      "219                  0                 0.00                 0.00   \n",
      "\n",
      "     Secondary _Boys  Secondary _Girls  ...     Year  Upper_Primary_Boys  \\\n",
      "0               5.57              5.55  ...        0                0.00   \n",
      "1               8.36              5.98  ...        0                0.00   \n",
      "2              11.47              8.16  ...        0                0.00   \n",
      "3              12.21             13.25  ...        0                0.00   \n",
      "4              11.95             13.37  ...        0                0.00   \n",
      "..               ...               ...  ...      ...                 ...   \n",
      "215             0.00              0.00  ...  2014-15              118.80   \n",
      "216             0.00              0.00  ...  2014-15               68.14   \n",
      "217             0.00              0.00  ...  2014-15               84.20   \n",
      "218             0.00              0.00  ...  2014-15               96.16   \n",
      "219             0.00              0.00  ...  2014-15               87.71   \n",
      "\n",
      "     Upper_Primary_Girls  Upper_Primary_Total Secondary_Boys  Secondary_Girls  \\\n",
      "0                   0.00                 0.00           0.00             0.00   \n",
      "1                   0.00                 0.00           0.00             0.00   \n",
      "2                   0.00                 0.00           0.00             0.00   \n",
      "3                   0.00                 0.00           0.00             0.00   \n",
      "4                   0.00                 0.00           0.00             0.00   \n",
      "..                   ...                  ...            ...              ...   \n",
      "215               122.38               120.54         119.81           121.36   \n",
      "216                82.28                74.54          67.85            67.73   \n",
      "217                87.03                85.53          90.99            89.65   \n",
      "218               110.67               103.17          70.67            86.05   \n",
      "219                95.29                91.24          78.13            78.94   \n",
      "\n",
      "     Secondary_Total  Higher_Secondary_Boys  Higher_Secondary_Girls  \\\n",
      "0               0.00                      0                       0   \n",
      "1               0.00                      0                       0   \n",
      "2               0.00                      0                       0   \n",
      "3               0.00                      0                       0   \n",
      "4               0.00                      0                       0   \n",
      "..               ...                    ...                     ...   \n",
      "215           120.57                  46.48                   40.05   \n",
      "216            67.79                  65.36                   62.01   \n",
      "217            90.35                  79.82                   80.95   \n",
      "218            78.17                  48.27                   51.82   \n",
      "219            78.51                  54.57                   53.81   \n",
      "\n",
      "     Higher_Secondary_Total  \n",
      "0                         0  \n",
      "1                         0  \n",
      "2                         0  \n",
      "3                         0  \n",
      "4                         0  \n",
      "..                      ...  \n",
      "215                    43.4  \n",
      "216                   63.75  \n",
      "217                   80.36  \n",
      "218                   49.95  \n",
      "219                   54.21  \n",
      "\n",
      "[220 rows x 24 columns]\n"
     ]
    }
   ],
   "source": [
    "print(df)"
   ]
  },
  {
   "cell_type": "code",
   "execution_count": 21,
   "metadata": {},
   "outputs": [
    {
     "data": {
      "text/plain": [
       "Index(['State_UT', 'year', 'Primary_Boys', 'Primary_Girls', 'Primary_Total',\n",
       "       'Upper Primary_Boys', 'Upper Primary_Girls', 'Upper Primary_Total',\n",
       "       'Secondary _Boys', 'Secondary _Girls', 'Secondary _Total',\n",
       "       'HrSecondary_Boys', 'HrSecondary_Girls', 'HrSecondary_Total', 'Year',\n",
       "       'Upper_Primary_Boys', 'Upper_Primary_Girls', 'Upper_Primary_Total',\n",
       "       'Secondary_Boys', 'Secondary_Girls', 'Secondary_Total',\n",
       "       'Higher_Secondary_Boys', 'Higher_Secondary_Girls',\n",
       "       'Higher_Secondary_Total'],\n",
       "      dtype='object')"
      ]
     },
     "execution_count": 21,
     "metadata": {},
     "output_type": "execute_result"
    }
   ],
   "source": [
    "df.columns"
   ]
  },
  {
   "cell_type": "code",
   "execution_count": 22,
   "metadata": {},
   "outputs": [
    {
     "data": {
      "text/plain": [
       "0            0\n",
       "1            0\n",
       "2            0\n",
       "3            0\n",
       "4            0\n",
       "        ...   \n",
       "215    2014-15\n",
       "216    2014-15\n",
       "217    2014-15\n",
       "218    2014-15\n",
       "219    2014-15\n",
       "Name: Year, Length: 220, dtype: object"
      ]
     },
     "execution_count": 22,
     "metadata": {},
     "output_type": "execute_result"
    }
   ],
   "source": [
    "df['Year']"
   ]
  },
  {
   "cell_type": "code",
   "execution_count": 23,
   "metadata": {},
   "outputs": [
    {
     "data": {
      "text/plain": [
       "'Chandigarh'"
      ]
     },
     "execution_count": 23,
     "metadata": {},
     "output_type": "execute_result"
    }
   ],
   "source": [
    "df.at[16, 'State_UT']"
   ]
  },
  {
   "cell_type": "code",
   "execution_count": 24,
   "metadata": {},
   "outputs": [
    {
     "data": {
      "text/html": [
       "<div>\n",
       "<style scoped>\n",
       "    .dataframe tbody tr th:only-of-type {\n",
       "        vertical-align: middle;\n",
       "    }\n",
       "\n",
       "    .dataframe tbody tr th {\n",
       "        vertical-align: top;\n",
       "    }\n",
       "\n",
       "    .dataframe thead th {\n",
       "        text-align: right;\n",
       "    }\n",
       "</style>\n",
       "<table border=\"1\" class=\"dataframe\">\n",
       "  <thead>\n",
       "    <tr style=\"text-align: right;\">\n",
       "      <th></th>\n",
       "      <th>State_UT</th>\n",
       "      <th>Year</th>\n",
       "      <th>Upper_Primary_Girls</th>\n",
       "    </tr>\n",
       "  </thead>\n",
       "  <tbody>\n",
       "    <tr>\n",
       "      <th>0</th>\n",
       "      <td>A &amp; N Islands</td>\n",
       "      <td>0</td>\n",
       "      <td>0.00</td>\n",
       "    </tr>\n",
       "    <tr>\n",
       "      <th>1</th>\n",
       "      <td>A &amp; N Islands</td>\n",
       "      <td>0</td>\n",
       "      <td>0.00</td>\n",
       "    </tr>\n",
       "    <tr>\n",
       "      <th>2</th>\n",
       "      <td>A &amp; N Islands</td>\n",
       "      <td>0</td>\n",
       "      <td>0.00</td>\n",
       "    </tr>\n",
       "    <tr>\n",
       "      <th>3</th>\n",
       "      <td>Andhra Pradesh</td>\n",
       "      <td>0</td>\n",
       "      <td>0.00</td>\n",
       "    </tr>\n",
       "    <tr>\n",
       "      <th>4</th>\n",
       "      <td>Andhra Pradesh</td>\n",
       "      <td>0</td>\n",
       "      <td>0.00</td>\n",
       "    </tr>\n",
       "    <tr>\n",
       "      <th>...</th>\n",
       "      <td>...</td>\n",
       "      <td>...</td>\n",
       "      <td>...</td>\n",
       "    </tr>\n",
       "    <tr>\n",
       "      <th>215</th>\n",
       "      <td>Tripura</td>\n",
       "      <td>2014-15</td>\n",
       "      <td>122.38</td>\n",
       "    </tr>\n",
       "    <tr>\n",
       "      <th>216</th>\n",
       "      <td>Uttar Pradesh</td>\n",
       "      <td>2014-15</td>\n",
       "      <td>82.28</td>\n",
       "    </tr>\n",
       "    <tr>\n",
       "      <th>217</th>\n",
       "      <td>Uttaranchal</td>\n",
       "      <td>2014-15</td>\n",
       "      <td>87.03</td>\n",
       "    </tr>\n",
       "    <tr>\n",
       "      <th>218</th>\n",
       "      <td>West Bengal</td>\n",
       "      <td>2014-15</td>\n",
       "      <td>110.67</td>\n",
       "    </tr>\n",
       "    <tr>\n",
       "      <th>219</th>\n",
       "      <td>All India</td>\n",
       "      <td>2014-15</td>\n",
       "      <td>95.29</td>\n",
       "    </tr>\n",
       "  </tbody>\n",
       "</table>\n",
       "<p>220 rows × 3 columns</p>\n",
       "</div>"
      ],
      "text/plain": [
       "           State_UT     Year  Upper_Primary_Girls\n",
       "0     A & N Islands        0                 0.00\n",
       "1     A & N Islands        0                 0.00\n",
       "2     A & N Islands        0                 0.00\n",
       "3    Andhra Pradesh        0                 0.00\n",
       "4    Andhra Pradesh        0                 0.00\n",
       "..              ...      ...                  ...\n",
       "215         Tripura  2014-15               122.38\n",
       "216   Uttar Pradesh  2014-15                82.28\n",
       "217     Uttaranchal  2014-15                87.03\n",
       "218     West Bengal  2014-15               110.67\n",
       "219       All India  2014-15                95.29\n",
       "\n",
       "[220 rows x 3 columns]"
      ]
     },
     "execution_count": 24,
     "metadata": {},
     "output_type": "execute_result"
    }
   ],
   "source": [
    "upg_df = df[['State_UT', 'Year', 'Upper_Primary_Girls']]\n",
    "upg_df"
   ]
  },
  {
   "cell_type": "code",
   "execution_count": 25,
   "metadata": {},
   "outputs": [
    {
     "data": {
      "text/plain": [
       "State_UT                  Andhra Pradesh\n",
       "year                                   0\n",
       "Primary_Boys                       96.62\n",
       "Primary_Girls                      96.87\n",
       "Primary_Total                      96.74\n",
       "Upper Primary_Boys                     0\n",
       "Upper Primary_Girls                    0\n",
       "Upper Primary_Total                    0\n",
       "Secondary _Boys                        0\n",
       "Secondary _Girls                       0\n",
       "Secondary _Total                       0\n",
       "HrSecondary_Boys                       0\n",
       "HrSecondary_Girls                      0\n",
       "HrSecondary_Total                      0\n",
       "Year                             2013-14\n",
       "Upper_Primary_Boys                 82.81\n",
       "Upper_Primary_Girls                84.38\n",
       "Upper_Primary_Total                83.57\n",
       "Secondary_Boys                     73.76\n",
       "Secondary_Girls                    76.77\n",
       "Secondary_Total                     75.2\n",
       "Higher_Secondary_Boys              59.83\n",
       "Higher_Secondary_Girls             60.83\n",
       "Higher_Secondary_Total              60.3\n",
       "Name: 111, dtype: object"
      ]
     },
     "execution_count": 25,
     "metadata": {},
     "output_type": "execute_result"
    }
   ],
   "source": [
    "df.loc[111]"
   ]
  },
  {
   "cell_type": "code",
   "execution_count": 26,
   "metadata": {},
   "outputs": [
    {
     "data": {
      "text/html": [
       "<div>\n",
       "<style scoped>\n",
       "    .dataframe tbody tr th:only-of-type {\n",
       "        vertical-align: middle;\n",
       "    }\n",
       "\n",
       "    .dataframe tbody tr th {\n",
       "        vertical-align: top;\n",
       "    }\n",
       "\n",
       "    .dataframe thead th {\n",
       "        text-align: right;\n",
       "    }\n",
       "</style>\n",
       "<table border=\"1\" class=\"dataframe\">\n",
       "  <thead>\n",
       "    <tr style=\"text-align: right;\">\n",
       "      <th></th>\n",
       "      <th>State_UT</th>\n",
       "      <th>year</th>\n",
       "      <th>Primary_Boys</th>\n",
       "      <th>Primary_Girls</th>\n",
       "      <th>Primary_Total</th>\n",
       "      <th>Upper Primary_Boys</th>\n",
       "      <th>Upper Primary_Girls</th>\n",
       "      <th>Upper Primary_Total</th>\n",
       "      <th>Secondary _Boys</th>\n",
       "      <th>Secondary _Girls</th>\n",
       "      <th>...</th>\n",
       "      <th>Year</th>\n",
       "      <th>Upper_Primary_Boys</th>\n",
       "      <th>Upper_Primary_Girls</th>\n",
       "      <th>Upper_Primary_Total</th>\n",
       "      <th>Secondary_Boys</th>\n",
       "      <th>Secondary_Girls</th>\n",
       "      <th>Secondary_Total</th>\n",
       "      <th>Higher_Secondary_Boys</th>\n",
       "      <th>Higher_Secondary_Girls</th>\n",
       "      <th>Higher_Secondary_Total</th>\n",
       "    </tr>\n",
       "  </thead>\n",
       "  <tbody>\n",
       "    <tr>\n",
       "      <th>188</th>\n",
       "      <td>Chandigarh</td>\n",
       "      <td>0</td>\n",
       "      <td>83.62</td>\n",
       "      <td>91.49</td>\n",
       "      <td>87.11</td>\n",
       "      <td>0</td>\n",
       "      <td>0.00</td>\n",
       "      <td>0.00</td>\n",
       "      <td>0.00</td>\n",
       "      <td>0.00</td>\n",
       "      <td>...</td>\n",
       "      <td>2014-15</td>\n",
       "      <td>94.68</td>\n",
       "      <td>103.15</td>\n",
       "      <td>98.33</td>\n",
       "      <td>89.05</td>\n",
       "      <td>90.53</td>\n",
       "      <td>89.69</td>\n",
       "      <td>90.05</td>\n",
       "      <td>91.3</td>\n",
       "      <td>90.57</td>\n",
       "    </tr>\n",
       "    <tr>\n",
       "      <th>194</th>\n",
       "      <td>Gujarat</td>\n",
       "      <td>0</td>\n",
       "      <td>97.57</td>\n",
       "      <td>100.07</td>\n",
       "      <td>98.72</td>\n",
       "      <td>0</td>\n",
       "      <td>0.00</td>\n",
       "      <td>0.00</td>\n",
       "      <td>0.00</td>\n",
       "      <td>0.00</td>\n",
       "      <td>...</td>\n",
       "      <td>2014-15</td>\n",
       "      <td>93.63</td>\n",
       "      <td>93.47</td>\n",
       "      <td>93.56</td>\n",
       "      <td>80.82</td>\n",
       "      <td>66.67</td>\n",
       "      <td>74.34</td>\n",
       "      <td>47.44</td>\n",
       "      <td>42.02</td>\n",
       "      <td>44.93</td>\n",
       "    </tr>\n",
       "    <tr>\n",
       "      <th>16</th>\n",
       "      <td>Chandigarh</td>\n",
       "      <td>2013-14</td>\n",
       "      <td>0.00</td>\n",
       "      <td>0.00</td>\n",
       "      <td>0.00</td>\n",
       "      <td>0.72</td>\n",
       "      <td>1.55</td>\n",
       "      <td>1.08</td>\n",
       "      <td>0.00</td>\n",
       "      <td>0.00</td>\n",
       "      <td>...</td>\n",
       "      <td>0</td>\n",
       "      <td>0.00</td>\n",
       "      <td>0.00</td>\n",
       "      <td>0.00</td>\n",
       "      <td>0.00</td>\n",
       "      <td>0.00</td>\n",
       "      <td>0.00</td>\n",
       "      <td>0</td>\n",
       "      <td>0</td>\n",
       "      <td>0</td>\n",
       "    </tr>\n",
       "    <tr>\n",
       "      <th>68</th>\n",
       "      <td>Meghalaya</td>\n",
       "      <td>2014-15</td>\n",
       "      <td>10.35</td>\n",
       "      <td>8.56</td>\n",
       "      <td>9.46</td>\n",
       "      <td>6.77</td>\n",
       "      <td>6.30</td>\n",
       "      <td>6.52</td>\n",
       "      <td>20.80</td>\n",
       "      <td>20.27</td>\n",
       "      <td>...</td>\n",
       "      <td>0</td>\n",
       "      <td>0.00</td>\n",
       "      <td>0.00</td>\n",
       "      <td>0.00</td>\n",
       "      <td>0.00</td>\n",
       "      <td>0.00</td>\n",
       "      <td>0.00</td>\n",
       "      <td>0</td>\n",
       "      <td>0</td>\n",
       "      <td>0</td>\n",
       "    </tr>\n",
       "    <tr>\n",
       "      <th>76</th>\n",
       "      <td>Odisha</td>\n",
       "      <td>2013-14</td>\n",
       "      <td>2.83</td>\n",
       "      <td>3.05</td>\n",
       "      <td>2.94</td>\n",
       "      <td>3.11</td>\n",
       "      <td>2.48</td>\n",
       "      <td>2.80</td>\n",
       "      <td>49.39</td>\n",
       "      <td>49.57</td>\n",
       "      <td>...</td>\n",
       "      <td>0</td>\n",
       "      <td>0.00</td>\n",
       "      <td>0.00</td>\n",
       "      <td>0.00</td>\n",
       "      <td>0.00</td>\n",
       "      <td>0.00</td>\n",
       "      <td>0.00</td>\n",
       "      <td>0</td>\n",
       "      <td>0</td>\n",
       "      <td>0</td>\n",
       "    </tr>\n",
       "    <tr>\n",
       "      <th>196</th>\n",
       "      <td>Himachal Pradesh</td>\n",
       "      <td>0</td>\n",
       "      <td>98.52</td>\n",
       "      <td>100.44</td>\n",
       "      <td>99.43</td>\n",
       "      <td>0</td>\n",
       "      <td>0.00</td>\n",
       "      <td>0.00</td>\n",
       "      <td>0.00</td>\n",
       "      <td>0.00</td>\n",
       "      <td>...</td>\n",
       "      <td>2014-15</td>\n",
       "      <td>102.25</td>\n",
       "      <td>104.04</td>\n",
       "      <td>103.09</td>\n",
       "      <td>119.04</td>\n",
       "      <td>112.29</td>\n",
       "      <td>115.87</td>\n",
       "      <td>101.69</td>\n",
       "      <td>99.31</td>\n",
       "      <td>100.58</td>\n",
       "    </tr>\n",
       "    <tr>\n",
       "      <th>121</th>\n",
       "      <td>Gujarat</td>\n",
       "      <td>0</td>\n",
       "      <td>100.32</td>\n",
       "      <td>102.06</td>\n",
       "      <td>101.13</td>\n",
       "      <td>0</td>\n",
       "      <td>0.00</td>\n",
       "      <td>0.00</td>\n",
       "      <td>0.00</td>\n",
       "      <td>0.00</td>\n",
       "      <td>...</td>\n",
       "      <td>2013-14</td>\n",
       "      <td>91.82</td>\n",
       "      <td>89.72</td>\n",
       "      <td>90.86</td>\n",
       "      <td>81.80</td>\n",
       "      <td>65.93</td>\n",
       "      <td>74.50</td>\n",
       "      <td>53.06</td>\n",
       "      <td>43.25</td>\n",
       "      <td>48.51</td>\n",
       "    </tr>\n",
       "    <tr>\n",
       "      <th>13</th>\n",
       "      <td>Bihar</td>\n",
       "      <td>2013-14</td>\n",
       "      <td>2.38</td>\n",
       "      <td>1.79</td>\n",
       "      <td>2.09</td>\n",
       "      <td>2.77</td>\n",
       "      <td>3.19</td>\n",
       "      <td>2.98</td>\n",
       "      <td>24.67</td>\n",
       "      <td>26.05</td>\n",
       "      <td>...</td>\n",
       "      <td>0</td>\n",
       "      <td>0.00</td>\n",
       "      <td>0.00</td>\n",
       "      <td>0.00</td>\n",
       "      <td>0.00</td>\n",
       "      <td>0.00</td>\n",
       "      <td>0.00</td>\n",
       "      <td>0</td>\n",
       "      <td>0</td>\n",
       "      <td>0</td>\n",
       "    </tr>\n",
       "    <tr>\n",
       "      <th>198</th>\n",
       "      <td>Jharkhand</td>\n",
       "      <td>0</td>\n",
       "      <td>107.77</td>\n",
       "      <td>109.08</td>\n",
       "      <td>108.40</td>\n",
       "      <td>0</td>\n",
       "      <td>0.00</td>\n",
       "      <td>0.00</td>\n",
       "      <td>0.00</td>\n",
       "      <td>0.00</td>\n",
       "      <td>...</td>\n",
       "      <td>2014-15</td>\n",
       "      <td>95.81</td>\n",
       "      <td>104.50</td>\n",
       "      <td>99.97</td>\n",
       "      <td>69.35</td>\n",
       "      <td>74.64</td>\n",
       "      <td>71.86</td>\n",
       "      <td>48.37</td>\n",
       "      <td>49.06</td>\n",
       "      <td>48.69</td>\n",
       "    </tr>\n",
       "    <tr>\n",
       "      <th>146</th>\n",
       "      <td>Andaman &amp; Nicobar Islands</td>\n",
       "      <td>0</td>\n",
       "      <td>91.13</td>\n",
       "      <td>86.76</td>\n",
       "      <td>88.93</td>\n",
       "      <td>0</td>\n",
       "      <td>0.00</td>\n",
       "      <td>0.00</td>\n",
       "      <td>0.00</td>\n",
       "      <td>0.00</td>\n",
       "      <td>...</td>\n",
       "      <td>2015-16</td>\n",
       "      <td>86.35</td>\n",
       "      <td>81.97</td>\n",
       "      <td>84.14</td>\n",
       "      <td>89.07</td>\n",
       "      <td>84.28</td>\n",
       "      <td>86.69</td>\n",
       "      <td>72.92</td>\n",
       "      <td>76.4</td>\n",
       "      <td>74.62</td>\n",
       "    </tr>\n",
       "  </tbody>\n",
       "</table>\n",
       "<p>10 rows × 24 columns</p>\n",
       "</div>"
      ],
      "text/plain": [
       "                      State_UT     year  Primary_Boys  Primary_Girls  \\\n",
       "188                 Chandigarh        0         83.62          91.49   \n",
       "194                    Gujarat        0         97.57         100.07   \n",
       "16                  Chandigarh  2013-14          0.00           0.00   \n",
       "68                   Meghalaya  2014-15         10.35           8.56   \n",
       "76                      Odisha  2013-14          2.83           3.05   \n",
       "196           Himachal Pradesh        0         98.52         100.44   \n",
       "121                    Gujarat        0        100.32         102.06   \n",
       "13                       Bihar  2013-14          2.38           1.79   \n",
       "198                  Jharkhand        0        107.77         109.08   \n",
       "146  Andaman & Nicobar Islands        0         91.13          86.76   \n",
       "\n",
       "     Primary_Total Upper Primary_Boys  Upper Primary_Girls  \\\n",
       "188          87.11                  0                 0.00   \n",
       "194          98.72                  0                 0.00   \n",
       "16            0.00               0.72                 1.55   \n",
       "68            9.46               6.77                 6.30   \n",
       "76            2.94               3.11                 2.48   \n",
       "196          99.43                  0                 0.00   \n",
       "121         101.13                  0                 0.00   \n",
       "13            2.09               2.77                 3.19   \n",
       "198         108.40                  0                 0.00   \n",
       "146          88.93                  0                 0.00   \n",
       "\n",
       "     Upper Primary_Total  Secondary _Boys  Secondary _Girls  ...     Year  \\\n",
       "188                 0.00             0.00              0.00  ...  2014-15   \n",
       "194                 0.00             0.00              0.00  ...  2014-15   \n",
       "16                  1.08             0.00              0.00  ...        0   \n",
       "68                  6.52            20.80             20.27  ...        0   \n",
       "76                  2.80            49.39             49.57  ...        0   \n",
       "196                 0.00             0.00              0.00  ...  2014-15   \n",
       "121                 0.00             0.00              0.00  ...  2013-14   \n",
       "13                  2.98            24.67             26.05  ...        0   \n",
       "198                 0.00             0.00              0.00  ...  2014-15   \n",
       "146                 0.00             0.00              0.00  ...  2015-16   \n",
       "\n",
       "     Upper_Primary_Boys  Upper_Primary_Girls  Upper_Primary_Total  \\\n",
       "188               94.68               103.15                98.33   \n",
       "194               93.63                93.47                93.56   \n",
       "16                 0.00                 0.00                 0.00   \n",
       "68                 0.00                 0.00                 0.00   \n",
       "76                 0.00                 0.00                 0.00   \n",
       "196              102.25               104.04               103.09   \n",
       "121               91.82                89.72                90.86   \n",
       "13                 0.00                 0.00                 0.00   \n",
       "198               95.81               104.50                99.97   \n",
       "146               86.35                81.97                84.14   \n",
       "\n",
       "    Secondary_Boys  Secondary_Girls  Secondary_Total  Higher_Secondary_Boys  \\\n",
       "188          89.05            90.53            89.69                  90.05   \n",
       "194          80.82            66.67            74.34                  47.44   \n",
       "16            0.00             0.00             0.00                      0   \n",
       "68            0.00             0.00             0.00                      0   \n",
       "76            0.00             0.00             0.00                      0   \n",
       "196         119.04           112.29           115.87                 101.69   \n",
       "121          81.80            65.93            74.50                  53.06   \n",
       "13            0.00             0.00             0.00                      0   \n",
       "198          69.35            74.64            71.86                  48.37   \n",
       "146          89.07            84.28            86.69                  72.92   \n",
       "\n",
       "     Higher_Secondary_Girls  Higher_Secondary_Total  \n",
       "188                    91.3                   90.57  \n",
       "194                   42.02                   44.93  \n",
       "16                        0                       0  \n",
       "68                        0                       0  \n",
       "76                        0                       0  \n",
       "196                   99.31                  100.58  \n",
       "121                   43.25                   48.51  \n",
       "13                        0                       0  \n",
       "198                   49.06                   48.69  \n",
       "146                    76.4                   74.62  \n",
       "\n",
       "[10 rows x 24 columns]"
      ]
     },
     "execution_count": 26,
     "metadata": {},
     "output_type": "execute_result"
    }
   ],
   "source": [
    "df.sample(10)"
   ]
  },
  {
   "cell_type": "code",
   "execution_count": 29,
   "metadata": {},
   "outputs": [
    {
     "data": {
      "text/plain": [
       "pandas.core.frame.DataFrame"
      ]
     },
     "execution_count": 29,
     "metadata": {},
     "output_type": "execute_result"
    }
   ],
   "source": [
    "type(df)"
   ]
  },
  {
   "cell_type": "code",
   "execution_count": 32,
   "metadata": {},
   "outputs": [
    {
     "name": "stdout",
     "output_type": "stream",
     "text": [
      "Number of students who dropped out of school in their primary years are 11732\n"
     ]
    }
   ],
   "source": [
    "primary_drop = df.Primary_Total.sum()\n",
    "print(\"Number of students who dropped out of school in their primary years are {}\".format(int(primary_drop)))"
   ]
  },
  {
   "cell_type": "code",
   "execution_count": 109,
   "metadata": {},
   "outputs": [
    {
     "name": "stdout",
     "output_type": "stream",
     "text": [
      "155\n",
      "162\n",
      "3653\n"
     ]
    }
   ],
   "source": [
    "sum = df.loc[df['year'] == '2012-13', 'Primary_Total'].sum()\n",
    "print(int(sum))\n",
    "sum1 = df.loc[df['year'] == '2013-14', 'Primary_Total'].sum()\n",
    "print(int(sum1))\n",
    "sum2 = df.loc[df['Year'] == '2014-15', 'Upper_Primary_Total'].sum()\n",
    "print(int(sum2))"
   ]
  },
  {
   "cell_type": "code",
   "execution_count": 110,
   "metadata": {},
   "outputs": [],
   "source": [
    "import matplotlib.pyplot as plt"
   ]
  },
  {
   "cell_type": "code",
   "execution_count": 111,
   "metadata": {},
   "outputs": [
    {
     "name": "stderr",
     "output_type": "stream",
     "text": [
      "/srv/conda/envs/notebook/lib/python3.8/site-packages/pandas/plotting/_matplotlib/core.py:1235: UserWarning: FixedFormatter should only be used together with FixedLocator\n",
      "  ax.set_xticklabels(xticklabels)\n"
     ]
    },
    {
     "data": {
      "image/png": "[encoded data removed]",
      "text/plain": [
       "<Figure size 432x288 with 1 Axes>"
      ]
     },
     "metadata": {
      "needs_background": "light"
     },
     "output_type": "display_data"
    }
   ],
   "source": [
    "ax = plt.gca()\n",
    "df.plot(kind='line',y='Upper_Primary_Total',x='State_UT',color='red', ax=ax)\n",
    "df.plot(kind='line',x='State_UT',y='Primary_Total', color='blue', ax=ax)\n",
    "plt.show()"
   ]
  },
  {
   "cell_type": "code",
   "execution_count": 112,
   "metadata": {},
   "outputs": [],
   "source": [
    "import jovian"
   ]
  },
  {
   "cell_type": "code",
   "execution_count": 113,
   "metadata": {},
   "outputs": [
    {
     "data": {
      "application/javascript": [
       "window.require && require([\"base/js/namespace\"],function(Jupyter){Jupyter.notebook.save_checkpoint()})"
      ],
      "text/plain": [
       "<IPython.core.display.Javascript object>"
      ]
     },
     "metadata": {},
     "output_type": "display_data"
    },
    {
     "name": "stdout",
     "output_type": "stream",
     "text": [
      "[jovian] Attempting to save notebook..\u001b[0m\n",
      "[jovian] Updating notebook \"sanya-dassani/student-dropout-and-enrollment-ratio-analysis\" on https://jovian.ml/\u001b[0m\n",
      "[jovian] Uploading notebook..\u001b[0m\n",
      "[jovian] Capturing environment..\u001b[0m\n",
      "[jovian] Committed successfully! https://jovian.ml/sanya-dassani/student-dropout-and-enrollment-ratio-analysis\u001b[0m\n"
     ]
    },
    {
     "data": {
      "text/plain": [
       "'https://jovian.ml/sanya-dassani/student-dropout-and-enrollment-ratio-analysis'"
      ]
     },
     "execution_count": 113,
     "metadata": {},
     "output_type": "execute_result"
    }
   ],
   "source": [
    "jovian.commit()"
   ]
  },
  {
   "cell_type": "markdown",
   "metadata": {},
   "source": [
    "## Asking and Answering Questions\n",
    "\n",
    "TODO"
   ]
  },
  {
   "cell_type": "code",
   "execution_count": 185,
   "metadata": {},
   "outputs": [
    {
     "name": "stderr",
     "output_type": "stream",
     "text": [
      "/srv/conda/envs/notebook/lib/python3.8/site-packages/pandas/plotting/_matplotlib/core.py:1235: UserWarning: FixedFormatter should only be used together with FixedLocator\n",
      "  ax.set_xticklabels(xticklabels)\n"
     ]
    },
    {
     "data": {
      "image/png": "[encoded data removed]",
      "text/plain": [
       "<Figure size 432x288 with 1 Axes>"
      ]
     },
     "metadata": {
      "needs_background": "light"
     },
     "output_type": "display_data"
    }
   ],
   "source": [
    "#plot the drop out graph of the total number of Students from Primary education- year wise  (Orange)\n",
    "#plot the enroll graph of the total number of Students into Upper Primary education- year wise (Green)\n",
    "\n",
    "ax = plt.gca()\n",
    "df.groupby('year')['Primary_Total'].nunique().plot(kind='line', color=\"Orange\", ax=ax)\n",
    "df.groupby('Year')['Upper_Primary_Total'].nunique().plot(kind='line', color=\"Green\", ax=ax)\n",
    "plt.show()"
   ]
  },
  {
   "cell_type": "code",
   "execution_count": 186,
   "metadata": {},
   "outputs": [
    {
     "name": "stderr",
     "output_type": "stream",
     "text": [
      "/srv/conda/envs/notebook/lib/python3.8/site-packages/pandas/plotting/_matplotlib/core.py:1235: UserWarning: FixedFormatter should only be used together with FixedLocator\n",
      "  ax.set_xticklabels(xticklabels)\n"
     ]
    },
    {
     "data": {
      "image/png": "[encoded data removed]",
      "text/plain": [
       "<Figure size 432x288 with 1 Axes>"
      ]
     },
     "metadata": {
      "needs_background": "light"
     },
     "output_type": "display_data"
    }
   ],
   "source": [
    "#plot the graph Distributed Year and state wise for the number of Students that enrolled in Secondary education\n",
    "\n",
    "plt.ylabel(\"Secondary_Total\")\n",
    "\n",
    "df.groupby(['Year','State_UT'])['Secondary _Total'].nunique().plot(kind='line', marker='x', color=\"Purple\")\n",
    "plt.plot(figsize=(20,10))\n",
    "plt.title(\"Year and state wise representation for the number of Students that enrolled in Secondary education\")\n",
    "plt.show()"
   ]
  },
  {
   "cell_type": "code",
   "execution_count": null,
   "metadata": {},
   "outputs": [],
   "source": []
  },
  {
   "cell_type": "code",
   "execution_count": null,
   "metadata": {},
   "outputs": [],
   "source": []
  },
  {
   "cell_type": "code",
   "execution_count": null,
   "metadata": {},
   "outputs": [],
   "source": []
  },
  {
   "cell_type": "code",
   "execution_count": null,
   "metadata": {},
   "outputs": [],
   "source": []
  },
  {
   "cell_type": "code",
   "execution_count": null,
   "metadata": {},
   "outputs": [],
   "source": []
  },
  {
   "cell_type": "code",
   "execution_count": null,
   "metadata": {},
   "outputs": [],
   "source": [
    "import jovian"
   ]
  },
  {
   "cell_type": "code",
   "execution_count": null,
   "metadata": {},
   "outputs": [],
   "source": [
    "jovian.commit()"
   ]
  },
  {
   "cell_type": "markdown",
   "metadata": {},
   "source": [
    "## Inferences and Conclusion\n",
    "\n",
    "TODO"
   ]
  },
  {
   "cell_type": "code",
   "execution_count": null,
   "metadata": {},
   "outputs": [],
   "source": []
  },
  {
   "cell_type": "code",
   "execution_count": null,
   "metadata": {},
   "outputs": [],
   "source": []
  },
  {
   "cell_type": "code",
   "execution_count": null,
   "metadata": {},
   "outputs": [],
   "source": []
  },
  {
   "cell_type": "code",
   "execution_count": null,
   "metadata": {},
   "outputs": [],
   "source": [
    "import jovian"
   ]
  },
  {
   "cell_type": "code",
   "execution_count": null,
   "metadata": {},
   "outputs": [],
   "source": [
    "jovian.commit()"
   ]
  },
  {
   "cell_type": "markdown",
   "metadata": {},
   "source": [
    "## References and Future Work\n",
    "\n",
    "TODO"
   ]
  },
  {
   "cell_type": "code",
   "execution_count": null,
   "metadata": {},
   "outputs": [],
   "source": [
    "import jovian"
   ]
  },
  {
   "cell_type": "code",
   "execution_count": null,
   "metadata": {},
   "outputs": [],
   "source": [
    "jovian.commit()"
   ]
  },
  {
   "cell_type": "code",
   "execution_count": null,
   "metadata": {},
   "outputs": [],
   "source": []
  }
 ],
 "metadata": {
  "language_info": {
   "codemirror_mode": {
    "name": "ipython",
    "version": 3
   },
   "file_extension": ".py",
   "mimetype": "text/x-python",
   "name": "python",
   "nbconvert_exporter": "python",
   "pygments_lexer": "ipython3",
   "version": "3.8.5"
  }
 },
 "nbformat": 4,
 "nbformat_minor": 4
}